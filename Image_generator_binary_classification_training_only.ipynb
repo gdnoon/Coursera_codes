{
  "nbformat": 4,
  "nbformat_minor": 0,
  "metadata": {
    "colab": {
      "name": "Image_generator_binary classification_training only.ipynb",
      "provenance": [],
      "authorship_tag": "ABX9TyNh8rj492JVSmHz8wb1+Yu3",
      "include_colab_link": true
    },
    "kernelspec": {
      "name": "python3",
      "display_name": "Python 3"
    },
    "language_info": {
      "name": "python"
    }
  },
  "cells": [
    {
      "cell_type": "markdown",
      "metadata": {
        "id": "view-in-github",
        "colab_type": "text"
      },
      "source": [
        "<a href=\"https://colab.research.google.com/github/gdnoon/Coursera_codes/blob/Introduction-to-TensorFlow/Image_generator_binary_classification_training_only.ipynb\" target=\"_parent\"><img src=\"https://colab.research.google.com/assets/colab-badge.svg\" alt=\"Open In Colab\"/></a>"
      ]
    },
    {
      "cell_type": "markdown",
      "source": [
        "In this lab, you will build a train a model on the Horses or Humans dataset. This contains over a thousand images of horses and humans with varying poses and filesizes. You will use the ImageDataGenerator class to prepare this dataset so it can be fed to a convolutional neural network.\n",
        "\n",
        "IMPORTANT NOTE: This notebook is designed to run as a Colab. Running it on your local machine might result in some of the code blocks throwing errors."
      ],
      "metadata": {
        "id": "TNw-maHj1YP3"
      }
    },
    {
      "cell_type": "code",
      "source": [
        "!gdown --id 1onaG42NZft3wCE1WH0GDEbUhu75fedP5"
      ],
      "metadata": {
        "colab": {
          "base_uri": "https://localhost:8080/"
        },
        "id": "vPuCueX_1cXX",
        "outputId": "ec8e71e6-6531-47ff-bb5a-d8212089bdf2"
      },
      "execution_count": 1,
      "outputs": [
        {
          "output_type": "stream",
          "name": "stdout",
          "text": [
            "Downloading...\n",
            "From: https://drive.google.com/uc?id=1onaG42NZft3wCE1WH0GDEbUhu75fedP5\n",
            "To: /content/horse-or-human.zip\n",
            "100% 150M/150M [00:00<00:00, 183MB/s]\n"
          ]
        }
      ]
    },
    {
      "cell_type": "markdown",
      "source": [
        "download the compressed dataset horse-or-human.zip."
      ],
      "metadata": {
        "id": "Zc1DKxsq1ih-"
      }
    },
    {
      "cell_type": "code",
      "source": [
        "import zipfile\n",
        "\n",
        "# Unzip the dataset\n",
        "local_zip = './horse-or-human.zip'\n",
        "zip_ref = zipfile.ZipFile(local_zip, 'r')\n",
        "zip_ref.extractall('./horse-or-human')\n",
        "zip_ref.close()"
      ],
      "metadata": {
        "id": "ojBLf-7y1jol"
      },
      "execution_count": 2,
      "outputs": []
    },
    {
      "cell_type": "markdown",
      "source": [
        "unzip the archive using the zipfile module.\n",
        "\n",
        "The contents of the .zip are extracted to the base directory ./horse-or-human, which in turn each contain horses and humans subdirectories.\n",
        "We do not explicitly label the images as horses or humans. You will use the ImageDataGenerator API instead -- and this is coded to automatically label images according to the directory names and structure. So, for example, you will have a 'training' directory containing a 'horses' directory and a 'humans' one. ImageDataGenerator will label the images appropriately for you, reducing a coding step."
      ],
      "metadata": {
        "id": "l0oD-uZG1msk"
      }
    }
  ]
}